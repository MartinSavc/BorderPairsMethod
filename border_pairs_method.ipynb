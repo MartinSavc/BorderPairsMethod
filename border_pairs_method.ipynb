{
  "nbformat": 4,
  "nbformat_minor": 0,
  "metadata": {
    "colab": {
      "name": "border_pairs_method.ipynb",
      "provenance": [],
      "authorship_tag": "ABX9TyMWlW7eTXnV9AajSRC+NdKf",
      "include_colab_link": true
    },
    "kernelspec": {
      "name": "python3",
      "display_name": "Python 3"
    },
    "language_info": {
      "name": "python"
    }
  },
  "cells": [
    {
      "cell_type": "markdown",
      "metadata": {
        "id": "view-in-github",
        "colab_type": "text"
      },
      "source": [
        "<a href=\"https://colab.research.google.com/github/MartinSavc/BorderPairsMethod/blob/main/border_pairs_method.ipynb\" target=\"_parent\"><img src=\"https://colab.research.google.com/assets/colab-badge.svg\" alt=\"Open In Colab\"/></a>"
      ]
    },
    {
      "cell_type": "markdown",
      "source": [],
      "metadata": {
        "id": "yvuKLlC_tl7W"
      }
    },
    {
      "cell_type": "markdown",
      "source": [
        "# Navodila\n",
        "\n",
        "## Potrebne razsiritve\n",
        "* Prilagoditev za vec razredov\n",
        "* prilagoditev za delo v batch-ih"
      ],
      "metadata": {
        "id": "NbW7vTmZtmCw"
      }
    },
    {
      "cell_type": "code",
      "source": [],
      "metadata": {
        "id": "cDltKKVQtppL"
      },
      "execution_count": null,
      "outputs": []
    }
  ]
}